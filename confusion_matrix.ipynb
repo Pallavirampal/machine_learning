{
  "nbformat": 4,
  "nbformat_minor": 0,
  "metadata": {
    "colab": {
      "name": "confusion_matrix.ipynb",
      "provenance": [],
      "authorship_tag": "ABX9TyMMNSyS17SbxiVGrDk0/V18",
      "include_colab_link": true
    },
    "kernelspec": {
      "name": "python3",
      "display_name": "Python 3"
    },
    "language_info": {
      "name": "python"
    }
  },
  "cells": [
    {
      "cell_type": "markdown",
      "metadata": {
        "id": "view-in-github",
        "colab_type": "text"
      },
      "source": [
        "<a href=\"https://colab.research.google.com/github/Pallavirampal/machine_learning/blob/master/confusion_matrix.ipynb\" target=\"_parent\"><img src=\"https://colab.research.google.com/assets/colab-badge.svg\" alt=\"Open In Colab\"/></a>"
      ]
    },
    {
      "cell_type": "code",
      "metadata": {
        "id": "eeAxxRIzuQC9"
      },
      "source": [
        "#Load libraries\n",
        "\n",
        "from sklearn.linear_model import LogisticRegression\n",
        "from sklearn import datasets\n",
        "from sklearn.preprocessing import StandardScaler\n",
        "\n",
        "# Load Data\n",
        "iris=datasets.load_iris()\n",
        "features=iris.data[:100,:]\n",
        "target=iris.target[:100]"
      ],
      "execution_count": null,
      "outputs": []
    },
    {
      "cell_type": "code",
      "metadata": {
        "colab": {
          "base_uri": "https://localhost:8080/"
        },
        "id": "YbBH6TVlwJuF",
        "outputId": "c44d54c4-2d61-430b-e267-f02ca8a32a50"
      },
      "source": [
        "for i,featurevalues in enumerate(features):\n",
        "  print(i,featurevalues)"
      ],
      "execution_count": null,
      "outputs": [
        {
          "output_type": "stream",
          "name": "stdout",
          "text": [
            "0 [5.1 3.5 1.4 0.2]\n",
            "1 [4.9 3.  1.4 0.2]\n",
            "2 [4.7 3.2 1.3 0.2]\n",
            "3 [4.6 3.1 1.5 0.2]\n",
            "4 [5.  3.6 1.4 0.2]\n",
            "5 [5.4 3.9 1.7 0.4]\n",
            "6 [4.6 3.4 1.4 0.3]\n",
            "7 [5.  3.4 1.5 0.2]\n",
            "8 [4.4 2.9 1.4 0.2]\n",
            "9 [4.9 3.1 1.5 0.1]\n",
            "10 [5.4 3.7 1.5 0.2]\n",
            "11 [4.8 3.4 1.6 0.2]\n",
            "12 [4.8 3.  1.4 0.1]\n",
            "13 [4.3 3.  1.1 0.1]\n",
            "14 [5.8 4.  1.2 0.2]\n",
            "15 [5.7 4.4 1.5 0.4]\n",
            "16 [5.4 3.9 1.3 0.4]\n",
            "17 [5.1 3.5 1.4 0.3]\n",
            "18 [5.7 3.8 1.7 0.3]\n",
            "19 [5.1 3.8 1.5 0.3]\n",
            "20 [5.4 3.4 1.7 0.2]\n",
            "21 [5.1 3.7 1.5 0.4]\n",
            "22 [4.6 3.6 1.  0.2]\n",
            "23 [5.1 3.3 1.7 0.5]\n",
            "24 [4.8 3.4 1.9 0.2]\n",
            "25 [5.  3.  1.6 0.2]\n",
            "26 [5.  3.4 1.6 0.4]\n",
            "27 [5.2 3.5 1.5 0.2]\n",
            "28 [5.2 3.4 1.4 0.2]\n",
            "29 [4.7 3.2 1.6 0.2]\n",
            "30 [4.8 3.1 1.6 0.2]\n",
            "31 [5.4 3.4 1.5 0.4]\n",
            "32 [5.2 4.1 1.5 0.1]\n",
            "33 [5.5 4.2 1.4 0.2]\n",
            "34 [4.9 3.1 1.5 0.2]\n",
            "35 [5.  3.2 1.2 0.2]\n",
            "36 [5.5 3.5 1.3 0.2]\n",
            "37 [4.9 3.6 1.4 0.1]\n",
            "38 [4.4 3.  1.3 0.2]\n",
            "39 [5.1 3.4 1.5 0.2]\n",
            "40 [5.  3.5 1.3 0.3]\n",
            "41 [4.5 2.3 1.3 0.3]\n",
            "42 [4.4 3.2 1.3 0.2]\n",
            "43 [5.  3.5 1.6 0.6]\n",
            "44 [5.1 3.8 1.9 0.4]\n",
            "45 [4.8 3.  1.4 0.3]\n",
            "46 [5.1 3.8 1.6 0.2]\n",
            "47 [4.6 3.2 1.4 0.2]\n",
            "48 [5.3 3.7 1.5 0.2]\n",
            "49 [5.  3.3 1.4 0.2]\n",
            "50 [7.  3.2 4.7 1.4]\n",
            "51 [6.4 3.2 4.5 1.5]\n",
            "52 [6.9 3.1 4.9 1.5]\n",
            "53 [5.5 2.3 4.  1.3]\n",
            "54 [6.5 2.8 4.6 1.5]\n",
            "55 [5.7 2.8 4.5 1.3]\n",
            "56 [6.3 3.3 4.7 1.6]\n",
            "57 [4.9 2.4 3.3 1. ]\n",
            "58 [6.6 2.9 4.6 1.3]\n",
            "59 [5.2 2.7 3.9 1.4]\n",
            "60 [5.  2.  3.5 1. ]\n",
            "61 [5.9 3.  4.2 1.5]\n",
            "62 [6.  2.2 4.  1. ]\n",
            "63 [6.1 2.9 4.7 1.4]\n",
            "64 [5.6 2.9 3.6 1.3]\n",
            "65 [6.7 3.1 4.4 1.4]\n",
            "66 [5.6 3.  4.5 1.5]\n",
            "67 [5.8 2.7 4.1 1. ]\n",
            "68 [6.2 2.2 4.5 1.5]\n",
            "69 [5.6 2.5 3.9 1.1]\n",
            "70 [5.9 3.2 4.8 1.8]\n",
            "71 [6.1 2.8 4.  1.3]\n",
            "72 [6.3 2.5 4.9 1.5]\n",
            "73 [6.1 2.8 4.7 1.2]\n",
            "74 [6.4 2.9 4.3 1.3]\n",
            "75 [6.6 3.  4.4 1.4]\n",
            "76 [6.8 2.8 4.8 1.4]\n",
            "77 [6.7 3.  5.  1.7]\n",
            "78 [6.  2.9 4.5 1.5]\n",
            "79 [5.7 2.6 3.5 1. ]\n",
            "80 [5.5 2.4 3.8 1.1]\n",
            "81 [5.5 2.4 3.7 1. ]\n",
            "82 [5.8 2.7 3.9 1.2]\n",
            "83 [6.  2.7 5.1 1.6]\n",
            "84 [5.4 3.  4.5 1.5]\n",
            "85 [6.  3.4 4.5 1.6]\n",
            "86 [6.7 3.1 4.7 1.5]\n",
            "87 [6.3 2.3 4.4 1.3]\n",
            "88 [5.6 3.  4.1 1.3]\n",
            "89 [5.5 2.5 4.  1.3]\n",
            "90 [5.5 2.6 4.4 1.2]\n",
            "91 [6.1 3.  4.6 1.4]\n",
            "92 [5.8 2.6 4.  1.2]\n",
            "93 [5.  2.3 3.3 1. ]\n",
            "94 [5.6 2.7 4.2 1.3]\n",
            "95 [5.7 3.  4.2 1.2]\n",
            "96 [5.7 2.9 4.2 1.3]\n",
            "97 [6.2 2.9 4.3 1.3]\n",
            "98 [5.1 2.5 3.  1.1]\n",
            "99 [5.7 2.8 4.1 1.3]\n"
          ]
        }
      ]
    },
    {
      "cell_type": "code",
      "metadata": {
        "id": "ux1cBM7ywUV4"
      },
      "source": [
        "# Standardized features\n",
        "scaler = StandardScaler()\n",
        "features_standardized = scaler.fit_transform(features)"
      ],
      "execution_count": null,
      "outputs": []
    },
    {
      "cell_type": "code",
      "metadata": {
        "id": "yAZkcO7HwYVL"
      },
      "source": [
        "# Create one -vs-rest Logistic regression object\n",
        "logistic_regression = LogisticRegression(random_state=0)"
      ],
      "execution_count": null,
      "outputs": []
    },
    {
      "cell_type": "code",
      "metadata": {
        "colab": {
          "base_uri": "https://localhost:8080/"
        },
        "id": "vwvDZSaCwZSb",
        "outputId": "37aeb225-3f5d-4764-fa76-ae7c1053df08"
      },
      "source": [
        "# Random state\n",
        "from sklearn.model_selection import train_test_split\n",
        "xtrain,xtest,ytrain,ytest = train_test_split(features_standardized,target,test_size=.3,random_state = 2)\n",
        "logistic_regression.fit(xtrain,ytrain)\n",
        "y = logistic_regression.predict(xtest)\n",
        "score = logistic_regression.score(xtest,ytest)\n",
        "print(score)\n",
        "print(y)\n",
        "print(ytest)"
      ],
      "execution_count": null,
      "outputs": [
        {
          "output_type": "stream",
          "name": "stdout",
          "text": [
            "1.0\n",
            "[1 0 1 0 0 0 0 0 0 0 1 1 1 0 0 0 0 0 1 1 0 0 1 0 1 0 0 1 1 1]\n",
            "[1 0 1 0 0 0 0 0 0 0 1 1 1 0 0 0 0 0 1 1 0 0 1 0 1 0 0 1 1 1]\n"
          ]
        }
      ]
    },
    {
      "cell_type": "code",
      "metadata": {
        "colab": {
          "base_uri": "https://localhost:8080/"
        },
        "id": "k5rds3yEwj2W",
        "outputId": "bcf37eb6-bc8d-4457-df61-b55dccdbc211"
      },
      "source": [
        "from sklearn.metrics import confusion_matrix\n",
        "from sklearn.metrics import accuracy_score,precision_score,recall_score,f1_score\n",
        "print(confusion_matrix(y_true = ytest,y_pred=y))\n",
        "print(accuracy_score(ytest,y))\n",
        "print(precision_score(ytest,y))\n",
        "print(recall_score(ytest,y))\n",
        "print(f1_score(ytest,y))"
      ],
      "execution_count": null,
      "outputs": [
        {
          "output_type": "stream",
          "name": "stdout",
          "text": [
            "[[18  0]\n",
            " [ 0 12]]\n",
            "1.0\n",
            "1.0\n",
            "1.0\n",
            "1.0\n"
          ]
        }
      ]
    },
    {
      "cell_type": "code",
      "metadata": {
        "id": "FQQNS7RA0CCc"
      },
      "source": [
        ""
      ],
      "execution_count": null,
      "outputs": []
    }
  ]
}