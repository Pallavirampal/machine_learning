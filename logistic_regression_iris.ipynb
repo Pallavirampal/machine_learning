{
  "nbformat": 4,
  "nbformat_minor": 0,
  "metadata": {
    "colab": {
      "name": "logistic regression iris.ipynb",
      "provenance": [],
      "authorship_tag": "ABX9TyPV8eAVn1zbuzl85h7bCkYs",
      "include_colab_link": true
    },
    "kernelspec": {
      "name": "python3",
      "display_name": "Python 3"
    },
    "language_info": {
      "name": "python"
    }
  },
  "cells": [
    {
      "cell_type": "markdown",
      "metadata": {
        "id": "view-in-github",
        "colab_type": "text"
      },
      "source": [
        "<a href=\"https://colab.research.google.com/github/Pallavirampal/machine_learning/blob/master/logistic_regression_iris.ipynb\" target=\"_parent\"><img src=\"https://colab.research.google.com/assets/colab-badge.svg\" alt=\"Open In Colab\"/></a>"
      ]
    },
    {
      "cell_type": "code",
      "metadata": {
        "id": "BnRBslsUyYMe"
      },
      "source": [
        "#Load libraries\n",
        "\n",
        "from sklearn.linear_model import LogisticRegression\n",
        "from sklearn import datasets\n",
        "from sklearn.preprocessing import StandardScaler\n",
        "\n",
        "# Load Data\n",
        "iris=datasets.load_iris()\n",
        "features=iris.data\n",
        "target=iris.target"
      ],
      "execution_count": null,
      "outputs": []
    },
    {
      "cell_type": "code",
      "metadata": {
        "colab": {
          "base_uri": "https://localhost:8080/"
        },
        "id": "Ek9vHMXv25hn",
        "outputId": "ffdc8421-c5a0-410c-b32e-432645760a1f"
      },
      "source": [
        "for i,featurevalues in enumerate(features):\n",
        "  print(i,featurevalues)"
      ],
      "execution_count": null,
      "outputs": [
        {
          "output_type": "stream",
          "name": "stdout",
          "text": [
            "0 [5.1 3.5 1.4 0.2]\n",
            "1 [4.9 3.  1.4 0.2]\n",
            "2 [4.7 3.2 1.3 0.2]\n",
            "3 [4.6 3.1 1.5 0.2]\n",
            "4 [5.  3.6 1.4 0.2]\n",
            "5 [5.4 3.9 1.7 0.4]\n",
            "6 [4.6 3.4 1.4 0.3]\n",
            "7 [5.  3.4 1.5 0.2]\n",
            "8 [4.4 2.9 1.4 0.2]\n",
            "9 [4.9 3.1 1.5 0.1]\n",
            "10 [5.4 3.7 1.5 0.2]\n",
            "11 [4.8 3.4 1.6 0.2]\n",
            "12 [4.8 3.  1.4 0.1]\n",
            "13 [4.3 3.  1.1 0.1]\n",
            "14 [5.8 4.  1.2 0.2]\n",
            "15 [5.7 4.4 1.5 0.4]\n",
            "16 [5.4 3.9 1.3 0.4]\n",
            "17 [5.1 3.5 1.4 0.3]\n",
            "18 [5.7 3.8 1.7 0.3]\n",
            "19 [5.1 3.8 1.5 0.3]\n",
            "20 [5.4 3.4 1.7 0.2]\n",
            "21 [5.1 3.7 1.5 0.4]\n",
            "22 [4.6 3.6 1.  0.2]\n",
            "23 [5.1 3.3 1.7 0.5]\n",
            "24 [4.8 3.4 1.9 0.2]\n",
            "25 [5.  3.  1.6 0.2]\n",
            "26 [5.  3.4 1.6 0.4]\n",
            "27 [5.2 3.5 1.5 0.2]\n",
            "28 [5.2 3.4 1.4 0.2]\n",
            "29 [4.7 3.2 1.6 0.2]\n",
            "30 [4.8 3.1 1.6 0.2]\n",
            "31 [5.4 3.4 1.5 0.4]\n",
            "32 [5.2 4.1 1.5 0.1]\n",
            "33 [5.5 4.2 1.4 0.2]\n",
            "34 [4.9 3.1 1.5 0.2]\n",
            "35 [5.  3.2 1.2 0.2]\n",
            "36 [5.5 3.5 1.3 0.2]\n",
            "37 [4.9 3.6 1.4 0.1]\n",
            "38 [4.4 3.  1.3 0.2]\n",
            "39 [5.1 3.4 1.5 0.2]\n",
            "40 [5.  3.5 1.3 0.3]\n",
            "41 [4.5 2.3 1.3 0.3]\n",
            "42 [4.4 3.2 1.3 0.2]\n",
            "43 [5.  3.5 1.6 0.6]\n",
            "44 [5.1 3.8 1.9 0.4]\n",
            "45 [4.8 3.  1.4 0.3]\n",
            "46 [5.1 3.8 1.6 0.2]\n",
            "47 [4.6 3.2 1.4 0.2]\n",
            "48 [5.3 3.7 1.5 0.2]\n",
            "49 [5.  3.3 1.4 0.2]\n",
            "50 [7.  3.2 4.7 1.4]\n",
            "51 [6.4 3.2 4.5 1.5]\n",
            "52 [6.9 3.1 4.9 1.5]\n",
            "53 [5.5 2.3 4.  1.3]\n",
            "54 [6.5 2.8 4.6 1.5]\n",
            "55 [5.7 2.8 4.5 1.3]\n",
            "56 [6.3 3.3 4.7 1.6]\n",
            "57 [4.9 2.4 3.3 1. ]\n",
            "58 [6.6 2.9 4.6 1.3]\n",
            "59 [5.2 2.7 3.9 1.4]\n",
            "60 [5.  2.  3.5 1. ]\n",
            "61 [5.9 3.  4.2 1.5]\n",
            "62 [6.  2.2 4.  1. ]\n",
            "63 [6.1 2.9 4.7 1.4]\n",
            "64 [5.6 2.9 3.6 1.3]\n",
            "65 [6.7 3.1 4.4 1.4]\n",
            "66 [5.6 3.  4.5 1.5]\n",
            "67 [5.8 2.7 4.1 1. ]\n",
            "68 [6.2 2.2 4.5 1.5]\n",
            "69 [5.6 2.5 3.9 1.1]\n",
            "70 [5.9 3.2 4.8 1.8]\n",
            "71 [6.1 2.8 4.  1.3]\n",
            "72 [6.3 2.5 4.9 1.5]\n",
            "73 [6.1 2.8 4.7 1.2]\n",
            "74 [6.4 2.9 4.3 1.3]\n",
            "75 [6.6 3.  4.4 1.4]\n",
            "76 [6.8 2.8 4.8 1.4]\n",
            "77 [6.7 3.  5.  1.7]\n",
            "78 [6.  2.9 4.5 1.5]\n",
            "79 [5.7 2.6 3.5 1. ]\n",
            "80 [5.5 2.4 3.8 1.1]\n",
            "81 [5.5 2.4 3.7 1. ]\n",
            "82 [5.8 2.7 3.9 1.2]\n",
            "83 [6.  2.7 5.1 1.6]\n",
            "84 [5.4 3.  4.5 1.5]\n",
            "85 [6.  3.4 4.5 1.6]\n",
            "86 [6.7 3.1 4.7 1.5]\n",
            "87 [6.3 2.3 4.4 1.3]\n",
            "88 [5.6 3.  4.1 1.3]\n",
            "89 [5.5 2.5 4.  1.3]\n",
            "90 [5.5 2.6 4.4 1.2]\n",
            "91 [6.1 3.  4.6 1.4]\n",
            "92 [5.8 2.6 4.  1.2]\n",
            "93 [5.  2.3 3.3 1. ]\n",
            "94 [5.6 2.7 4.2 1.3]\n",
            "95 [5.7 3.  4.2 1.2]\n",
            "96 [5.7 2.9 4.2 1.3]\n",
            "97 [6.2 2.9 4.3 1.3]\n",
            "98 [5.1 2.5 3.  1.1]\n",
            "99 [5.7 2.8 4.1 1.3]\n",
            "100 [6.3 3.3 6.  2.5]\n",
            "101 [5.8 2.7 5.1 1.9]\n",
            "102 [7.1 3.  5.9 2.1]\n",
            "103 [6.3 2.9 5.6 1.8]\n",
            "104 [6.5 3.  5.8 2.2]\n",
            "105 [7.6 3.  6.6 2.1]\n",
            "106 [4.9 2.5 4.5 1.7]\n",
            "107 [7.3 2.9 6.3 1.8]\n",
            "108 [6.7 2.5 5.8 1.8]\n",
            "109 [7.2 3.6 6.1 2.5]\n",
            "110 [6.5 3.2 5.1 2. ]\n",
            "111 [6.4 2.7 5.3 1.9]\n",
            "112 [6.8 3.  5.5 2.1]\n",
            "113 [5.7 2.5 5.  2. ]\n",
            "114 [5.8 2.8 5.1 2.4]\n",
            "115 [6.4 3.2 5.3 2.3]\n",
            "116 [6.5 3.  5.5 1.8]\n",
            "117 [7.7 3.8 6.7 2.2]\n",
            "118 [7.7 2.6 6.9 2.3]\n",
            "119 [6.  2.2 5.  1.5]\n",
            "120 [6.9 3.2 5.7 2.3]\n",
            "121 [5.6 2.8 4.9 2. ]\n",
            "122 [7.7 2.8 6.7 2. ]\n",
            "123 [6.3 2.7 4.9 1.8]\n",
            "124 [6.7 3.3 5.7 2.1]\n",
            "125 [7.2 3.2 6.  1.8]\n",
            "126 [6.2 2.8 4.8 1.8]\n",
            "127 [6.1 3.  4.9 1.8]\n",
            "128 [6.4 2.8 5.6 2.1]\n",
            "129 [7.2 3.  5.8 1.6]\n",
            "130 [7.4 2.8 6.1 1.9]\n",
            "131 [7.9 3.8 6.4 2. ]\n",
            "132 [6.4 2.8 5.6 2.2]\n",
            "133 [6.3 2.8 5.1 1.5]\n",
            "134 [6.1 2.6 5.6 1.4]\n",
            "135 [7.7 3.  6.1 2.3]\n",
            "136 [6.3 3.4 5.6 2.4]\n",
            "137 [6.4 3.1 5.5 1.8]\n",
            "138 [6.  3.  4.8 1.8]\n",
            "139 [6.9 3.1 5.4 2.1]\n",
            "140 [6.7 3.1 5.6 2.4]\n",
            "141 [6.9 3.1 5.1 2.3]\n",
            "142 [5.8 2.7 5.1 1.9]\n",
            "143 [6.8 3.2 5.9 2.3]\n",
            "144 [6.7 3.3 5.7 2.5]\n",
            "145 [6.7 3.  5.2 2.3]\n",
            "146 [6.3 2.5 5.  1.9]\n",
            "147 [6.5 3.  5.2 2. ]\n",
            "148 [6.2 3.4 5.4 2.3]\n",
            "149 [5.9 3.  5.1 1.8]\n"
          ]
        }
      ]
    },
    {
      "cell_type": "code",
      "metadata": {
        "id": "xhghVVteymdC"
      },
      "source": [
        "# Standardized features\n",
        "scaler = StandardScaler()\n",
        "features_standardized = scaler.fit_transform(features)"
      ],
      "execution_count": null,
      "outputs": []
    },
    {
      "cell_type": "code",
      "metadata": {
        "id": "5BIvp80F2jdz"
      },
      "source": [
        "# Create one -vs-rest Logistic regression object\n",
        "logistic_regression = LogisticRegression(random_state=0,multi_class=\"ovr\")"
      ],
      "execution_count": null,
      "outputs": []
    },
    {
      "cell_type": "code",
      "metadata": {
        "colab": {
          "base_uri": "https://localhost:8080/"
        },
        "id": "VAmAHZbq2yMh",
        "outputId": "77613a7d-c772-45bc-a635-ac3383b5726c"
      },
      "source": [
        "# Random state\n",
        "from sklearn.model_selection import train_test_split\n",
        "xtrain,xtest,ytrain,ytest = train_test_split(features_standardized,target,test_size=.3,random_state = 2)\n",
        "logistic_regression.fit(xtrain,ytrain)\n",
        "y = logistic_regression.predict(xtest)\n",
        "score = logistic_regression.score(xtest,ytest)\n",
        "print(score)\n",
        "print(y)\n",
        "print(ytest)"
      ],
      "execution_count": null,
      "outputs": [
        {
          "output_type": "stream",
          "name": "stdout",
          "text": [
            "0.9333333333333333\n",
            "[0 0 2 0 0 2 0 2 2 0 0 0 0 0 2 1 1 1 2 1 2 1 2 1 1 0 0 2 0 2 2 0 1 2 1 0 2\n",
            " 1 1 2 1 1 2 1 0]\n",
            "[0 0 2 0 0 2 0 2 2 0 0 0 0 0 1 1 0 1 2 1 1 1 2 1 1 0 0 2 0 2 2 0 1 2 1 0 2\n",
            " 1 1 2 1 1 2 1 0]\n"
          ]
        }
      ]
    },
    {
      "cell_type": "code",
      "metadata": {
        "colab": {
          "base_uri": "https://localhost:8080/"
        },
        "id": "rK9rBrCR_x8f",
        "outputId": "a921edaa-2d7c-4b46-ef32-12ad8645169d"
      },
      "source": [
        "from sklearn.model_selection import train_test_split\n",
        "xtrain,xtest,ytrain,ytest = train_test_split(features_standardized,target,test_size=.3,random_state = 3)\n",
        "logistic_regression.fit(xtrain,ytrain)\n",
        "y = logistic_regression.predict(xtest)\n",
        "score = logistic_regression.score(xtest,ytest)\n",
        "print(score)\n",
        "print(y)\n",
        "print(ytest)"
      ],
      "execution_count": null,
      "outputs": [
        {
          "output_type": "stream",
          "name": "stdout",
          "text": [
            "0.9111111111111111\n",
            "[0 0 0 0 0 2 1 0 2 1 1 0 1 1 2 0 1 2 2 0 2 2 2 1 0 2 1 1 1 2 0 0 2 1 0 0 2\n",
            " 1 2 1 2 1 0 0 2]\n",
            "[0 0 0 0 0 2 1 0 2 1 1 0 1 1 2 0 1 2 2 0 2 2 2 1 0 2 2 1 1 1 0 0 2 1 0 0 1\n",
            " 0 2 1 2 1 0 0 2]\n"
          ]
        }
      ]
    }
  ]
}